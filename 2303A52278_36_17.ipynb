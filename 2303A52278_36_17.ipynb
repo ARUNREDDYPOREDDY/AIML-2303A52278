{
  "nbformat": 4,
  "nbformat_minor": 0,
  "metadata": {
    "colab": {
      "provenance": [],
      "authorship_tag": "ABX9TyPffpwAgWcSSDjJNw0g8L0N",
      "include_colab_link": true
    },
    "kernelspec": {
      "name": "python3",
      "display_name": "Python 3"
    },
    "language_info": {
      "name": "python"
    }
  },
  "cells": [
    {
      "cell_type": "markdown",
      "metadata": {
        "id": "view-in-github",
        "colab_type": "text"
      },
      "source": [
        "<a href=\"https://colab.research.google.com/github/ARUNREDDYPOREDDY/AIML-2303A52278/blob/main/2303A52278_36_17.ipynb\" target=\"_parent\"><img src=\"https://colab.research.google.com/assets/colab-badge.svg\" alt=\"Open In Colab\"/></a>"
      ]
    },
    {
      "cell_type": "markdown",
      "source": [
        "\n",
        "Prediction the role of specific drugs on patients using Drug reviews(Drugs.com)\n",
        "1. Identify the top 5 reasons for drug usage\n",
        "2. Identify the condition with most usage of drugs\n",
        "3. Find the max and min count of users who found the drug review useful\n",
        "4. Name the drug most used according to drug reviews\n",
        "5. Identify the max count of 10 star rating of the drug\n",
        "reviews.\n",
        "6. Apply either Classification Model or Clustering Model to evaluate the dataset"
      ],
      "metadata": {
        "id": "dRmCGqZWA9MC"
      }
    },
    {
      "cell_type": "markdown",
      "source": [
        "1.Identify the top 5 reasons for drug usage"
      ],
      "metadata": {
        "id": "7SyQ6dRVL_EL"
      }
    },
    {
      "cell_type": "code",
      "source": [
        "top_conditions = train_data['condition'].value_counts().head(5)\n",
        "print(\"Top 5 reasons for drug usage:\\n\", top_conditions)"
      ],
      "metadata": {
        "colab": {
          "base_uri": "https://localhost:8080/"
        },
        "id": "ptDONYgOMBDo",
        "outputId": "12406c8b-b9c8-4931-fdd4-fc4dea03f3be"
      },
      "execution_count": 19,
      "outputs": [
        {
          "output_type": "stream",
          "name": "stdout",
          "text": [
            "Top 5 reasons for drug usage:\n",
            " condition\n",
            "Birth Control    28788\n",
            "Depression        9069\n",
            "Pain              6145\n",
            "Anxiety           5904\n",
            "Acne              5588\n",
            "Name: count, dtype: int64\n"
          ]
        }
      ]
    },
    {
      "cell_type": "markdown",
      "source": [
        "2.Identify the condition with most usage of drugs"
      ],
      "metadata": {
        "id": "fIJJbge_MFYM"
      }
    },
    {
      "cell_type": "code",
      "source": [
        "most_used_condition = train_data['condition'].value_counts().idxmax()\n",
        "print(f\"\\nCondition with most usage: {most_used_condition}\")\n"
      ],
      "metadata": {
        "colab": {
          "base_uri": "https://localhost:8080/"
        },
        "id": "FEZEx6XiMG03",
        "outputId": "438972ea-c960-4fb8-86a0-52a9de9910ff"
      },
      "execution_count": 20,
      "outputs": [
        {
          "output_type": "stream",
          "name": "stdout",
          "text": [
            "\n",
            "Condition with most usage: Birth Control\n"
          ]
        }
      ]
    },
    {
      "cell_type": "markdown",
      "source": [
        "3.Find the max and min count of users who found the drug review useful"
      ],
      "metadata": {
        "id": "7jbQA2vqMNun"
      }
    },
    {
      "cell_type": "code",
      "source": [
        "max_useful_count = train_data['usefulCount'].max()\n",
        "min_useful_count = train_data['usefulCount'].min()\n",
        "print(f\"\\nMax useful count: {max_useful_count}, Min useful count: {min_useful_count}\")"
      ],
      "metadata": {
        "colab": {
          "base_uri": "https://localhost:8080/"
        },
        "id": "SreZJOwhMQSh",
        "outputId": "e7ec71a9-b2ad-43dd-aab7-9df34a76571a"
      },
      "execution_count": 21,
      "outputs": [
        {
          "output_type": "stream",
          "name": "stdout",
          "text": [
            "\n",
            "Max useful count: 1291, Min useful count: 0\n"
          ]
        }
      ]
    },
    {
      "cell_type": "markdown",
      "source": [
        "4.Name the drug most used according to drug reviews"
      ],
      "metadata": {
        "id": "nc_Jk5NMMW4h"
      }
    },
    {
      "cell_type": "code",
      "source": [
        "most_used_drug = train_data['drugName'].value_counts().idxmax()\n",
        "print(f\"\\nMost used drug: {most_used_drug}\")"
      ],
      "metadata": {
        "colab": {
          "base_uri": "https://localhost:8080/"
        },
        "id": "YIUATmSFMYwb",
        "outputId": "cff32264-5434-489a-ebb2-1441d7558984"
      },
      "execution_count": 22,
      "outputs": [
        {
          "output_type": "stream",
          "name": "stdout",
          "text": [
            "\n",
            "Most used drug: Levonorgestrel\n"
          ]
        }
      ]
    },
    {
      "cell_type": "markdown",
      "source": [
        "5.Identify the max count of 10 star rating of the drug reviews."
      ],
      "metadata": {
        "id": "rE_bln0iMci9"
      }
    },
    {
      "cell_type": "code",
      "source": [
        "max_10_star_reviews = train_data[train_data['rating'] == 10]['rating'].count()\n",
        "print(f\"\\nMax count of 10-star ratings: {max_10_star_reviews}\")"
      ],
      "metadata": {
        "colab": {
          "base_uri": "https://localhost:8080/"
        },
        "id": "PLnf40bXMd8x",
        "outputId": "a23a5a76-f5ff-49db-c1f0-d0ecc30e1aef"
      },
      "execution_count": 23,
      "outputs": [
        {
          "output_type": "stream",
          "name": "stdout",
          "text": [
            "\n",
            "Max count of 10-star ratings: 50989\n"
          ]
        }
      ]
    },
    {
      "cell_type": "markdown",
      "source": [
        "6.Apply either Classification Model or Clustering Model to evaluate the dataset"
      ],
      "metadata": {
        "id": "QvmyCOKdMk4T"
      }
    },
    {
      "cell_type": "code",
      "source": [
        "features = train_data[['rating', 'usefulCount']].dropna()\n",
        "scaler = StandardScaler()\n",
        "scaled_features = scaler.fit_transform(features)\n",
        "\n",
        "kmeans = KMeans(n_clusters=3, random_state=42)\n",
        "train_data['Cluster'] = kmeans.fit_predict(scaled_features)\n",
        "\n",
        "print(\"\\nCluster labels added to the dataset.\")\n",
        "print(train_data[['rating', 'usefulCount', 'Cluster']].head())"
      ],
      "metadata": {
        "colab": {
          "base_uri": "https://localhost:8080/"
        },
        "id": "AgEYUbpmMkGq",
        "outputId": "e88ba183-eb8f-4ecf-fc37-b021bfbc88ca"
      },
      "execution_count": 24,
      "outputs": [
        {
          "output_type": "stream",
          "name": "stdout",
          "text": [
            "\n",
            "Cluster labels added to the dataset.\n",
            "   rating  usefulCount  Cluster\n",
            "0     9.0           27        1\n",
            "1     8.0          192        0\n",
            "2     5.0           17        2\n",
            "3     8.0           10        1\n",
            "4     9.0           37        1\n"
          ]
        }
      ]
    }
  ]
}